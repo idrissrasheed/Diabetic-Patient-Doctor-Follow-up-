{
 "cells": [
  {
   "cell_type": "code",
   "execution_count": 1,
   "id": "56f884bc",
   "metadata": {},
   "outputs": [],
   "source": [
    "# Import libraries\n",
    "import os\n",
    "import pandas as pd\n",
    "import sqlite3"
   ]
  },
  {
   "cell_type": "code",
   "execution_count": 2,
   "id": "0ded635f",
   "metadata": {},
   "outputs": [],
   "source": [
    "# Set working directory\n",
    "desired_dir = 'C:/Users/idris/Downloads/Datasets'\n",
    "os.chdir(desired_dir)"
   ]
  },
  {
   "cell_type": "code",
   "execution_count": 3,
   "id": "4c4d9278",
   "metadata": {},
   "outputs": [],
   "source": [
    "# Read SAS files from https://wwwn.cdc.gov/nchs/nhanes/search/datapage.aspx?Component=Laboratory&Cycle=2017-2020\n",
    "ghb = pd.read_sas('P_GHB.XPT')\n",
    "fast_gluc = pd.read_sas('P_GLU.XPT')"
   ]
  },
  {
   "cell_type": "code",
   "execution_count": 4,
   "id": "51463c39",
   "metadata": {},
   "outputs": [],
   "source": [
    "# Establish a connection to SQLite database\n",
    "conn = sqlite3.connect('Lab Records.db')"
   ]
  },
  {
   "cell_type": "code",
   "execution_count": 5,
   "id": "47ae699c",
   "metadata": {},
   "outputs": [
    {
     "data": {
      "text/plain": [
       "5090"
      ]
     },
     "execution_count": 5,
     "metadata": {},
     "output_type": "execute_result"
    }
   ],
   "source": [
    "# Move tables to Lab Records database\n",
    "ghb.to_sql('aic',conn, if_exists='replace',index=False)\n",
    "fast_gluc.to_sql('fast_gluc',conn, if_exists='replace',index=False)"
   ]
  },
  {
   "cell_type": "code",
   "execution_count": 6,
   "id": "b9a78b8c",
   "metadata": {
    "scrolled": true
   },
   "outputs": [
    {
     "name": "stdout",
     "output_type": "stream",
     "text": [
      "(109264.0, 97.0, 5.3)\n",
      "(109271.0, 103.0, 5.6)\n",
      "(109274.0, 154.0, 5.7)\n",
      "(109277.0, 92.0, 5.3)\n",
      "(109282.0, 95.0, 5.5)\n",
      "(109286.0, 92.0, 5.7)\n",
      "(109290.0, 106.0, 8.4)\n",
      "(109292.0, 181.0, 6.4)\n",
      "(109297.0, 92.0, 5.1)\n",
      "(109300.0, 103.0, 5.4)\n",
      "(109305.0, 105.0, 5.2)\n",
      "(109307.0, 103.0, 5.3)\n",
      "(109313.0, 97.0, 5.9)\n",
      "(109317.0, 88.0, 5.0)\n",
      "(109322.0, 89.0, 5.4)\n",
      "(109323.0, 104.0, 5.2)\n",
      "(109324.0, 86.0, None)\n",
      "(109326.0, 95.0, 5.1)\n",
      "(109327.0, 98.0, 5.6)\n",
      "(109330.0, 109.0, 5.6)\n",
      "(109331.0, 96.0, 5.3)\n",
      "(109332.0, 88.0, 5.0)\n",
      "(109335.0, 98.0, 6.3)\n",
      "(109340.0, 110.0, 5.8)\n",
      "(109342.0, 97.0, 5.2)\n",
      "(109346.0, None, None)\n",
      "(109350.0, None, 5.3)\n",
      "(109353.0, None, None)\n",
      "(109358.0, None, None)\n",
      "(109360.0, 97.0, 4.6)\n",
      "(109365.0, 100.0, 5.3)\n",
      "(109367.0, 96.0, 5.7)\n",
      "(109368.0, None, None)\n",
      "(109369.0, 103.0, 5.6)\n",
      "(109371.0, 102.0, 5.8)\n",
      "(109376.0, 99.0, 5.4)\n",
      "(109377.0, 100.0, 5.4)\n",
      "(109378.0, 97.0, 5.3)\n",
      "(109379.0, 106.0, 5.5)\n",
      "(109380.0, 89.0, 5.2)\n",
      "(109382.0, 129.0, 6.5)\n",
      "(109392.0, 88.0, 5.3)\n",
      "(109394.0, 97.0, 6.0)\n",
      "(109398.0, 95.0, 5.3)\n",
      "(109399.0, 93.0, 5.1)\n",
      "(109403.0, 89.0, 5.9)\n",
      "(109404.0, 96.0, 5.3)\n",
      "(109415.0, 130.0, 7.0)\n",
      "(109426.0, 101.0, 5.9)\n",
      "(109428.0, 106.0, 5.3)\n"
     ]
    }
   ],
   "source": [
    "# Full join the fasting glucose and AIC tableS\n",
    "lab_records = '''\n",
    "CREATE TABLE \n",
    "    lab_records AS \n",
    "SELECT \n",
    "    f.SEQN,\n",
    "    f.LBXGLU,\n",
    "    a.LBXGH \n",
    "FROM \n",
    "    fast_gluc f\n",
    "FULL JOIN \n",
    "    aic a ON f.SEQN = a.SEQN\n",
    "WHERE \n",
    "    f.SEQN IS NOT NULL AND a.SEQN IS NOT NULL\n",
    "GROUP BY \n",
    "    f.SEQN;\n",
    "'''\n",
    "# Execute query with database cursor \n",
    "cursor = conn.cursor()\n",
    "cursor.execute(lab_records)\n",
    "cursor.execute('SELECT * FROM lab_records')\n",
    "\n",
    "# Return first 50 rows\n",
    "rows = cursor.fetchmany(50)\n",
    "for row in rows:\n",
    "    print(row)"
   ]
  },
  {
   "cell_type": "code",
   "execution_count": 7,
   "id": "f8142aea",
   "metadata": {},
   "outputs": [
    {
     "name": "stdout",
     "output_type": "stream",
     "text": [
      "(109264.0, 97.0, 5.3, 'Non-Diabetic', 'No')\n",
      "(109271.0, 103.0, 5.6, 'Pre-Diabetic', 'Yes')\n",
      "(109274.0, 154.0, 5.7, 'Pre-Diabetic', 'Yes')\n",
      "(109277.0, 92.0, 5.3, 'Non-Diabetic', 'No')\n",
      "(109282.0, 95.0, 5.5, 'Non-Diabetic', 'No')\n",
      "(109286.0, 92.0, 5.7, 'Pre-Diabetic', 'Yes')\n",
      "(109290.0, 106.0, 8.4, 'Pre-Diabetic', 'Yes')\n",
      "(109292.0, 181.0, 6.4, 'Pre-Diabetic', 'Yes')\n",
      "(109297.0, 92.0, 5.1, 'Non-Diabetic', 'No')\n",
      "(109300.0, 103.0, 5.4, 'Pre-Diabetic', 'Yes')\n",
      "(109305.0, 105.0, 5.2, 'Pre-Diabetic', 'Yes')\n",
      "(109307.0, 103.0, 5.3, 'Pre-Diabetic', 'Yes')\n",
      "(109313.0, 97.0, 5.9, 'Pre-Diabetic', 'Yes')\n",
      "(109317.0, 88.0, 5.0, 'Non-Diabetic', 'No')\n",
      "(109322.0, 89.0, 5.4, 'Non-Diabetic', 'No')\n",
      "(109323.0, 104.0, 5.2, 'Pre-Diabetic', 'Yes')\n",
      "(109324.0, 86.0, None, 'Inconclusive', 'Yes')\n",
      "(109326.0, 95.0, 5.1, 'Non-Diabetic', 'No')\n",
      "(109327.0, 98.0, 5.6, 'Non-Diabetic', 'No')\n",
      "(109330.0, 109.0, 5.6, 'Pre-Diabetic', 'Yes')\n",
      "(109331.0, 96.0, 5.3, 'Non-Diabetic', 'No')\n",
      "(109332.0, 88.0, 5.0, 'Non-Diabetic', 'No')\n",
      "(109335.0, 98.0, 6.3, 'Pre-Diabetic', 'Yes')\n",
      "(109340.0, 110.0, 5.8, 'Pre-Diabetic', 'Yes')\n",
      "(109342.0, 97.0, 5.2, 'Non-Diabetic', 'No')\n",
      "(109346.0, None, None, 'Inconclusive', 'Yes')\n",
      "(109350.0, None, 5.3, 'Inconclusive', 'Yes')\n",
      "(109353.0, None, None, 'Inconclusive', 'Yes')\n",
      "(109358.0, None, None, 'Inconclusive', 'Yes')\n",
      "(109360.0, 97.0, 4.6, 'Non-Diabetic', 'No')\n",
      "(109365.0, 100.0, 5.3, 'Pre-Diabetic', 'Yes')\n",
      "(109367.0, 96.0, 5.7, 'Pre-Diabetic', 'Yes')\n",
      "(109368.0, None, None, 'Inconclusive', 'Yes')\n",
      "(109369.0, 103.0, 5.6, 'Pre-Diabetic', 'Yes')\n",
      "(109371.0, 102.0, 5.8, 'Pre-Diabetic', 'Yes')\n",
      "(109376.0, 99.0, 5.4, 'Non-Diabetic', 'No')\n",
      "(109377.0, 100.0, 5.4, 'Pre-Diabetic', 'Yes')\n",
      "(109378.0, 97.0, 5.3, 'Non-Diabetic', 'No')\n",
      "(109379.0, 106.0, 5.5, 'Pre-Diabetic', 'Yes')\n",
      "(109380.0, 89.0, 5.2, 'Non-Diabetic', 'No')\n",
      "(109382.0, 129.0, 6.5, 'Diabetic', 'Yes')\n",
      "(109392.0, 88.0, 5.3, 'Non-Diabetic', 'No')\n",
      "(109394.0, 97.0, 6.0, 'Pre-Diabetic', 'Yes')\n",
      "(109398.0, 95.0, 5.3, 'Non-Diabetic', 'No')\n",
      "(109399.0, 93.0, 5.1, 'Non-Diabetic', 'No')\n",
      "(109403.0, 89.0, 5.9, 'Pre-Diabetic', 'Yes')\n",
      "(109404.0, 96.0, 5.3, 'Non-Diabetic', 'No')\n",
      "(109415.0, 130.0, 7.0, 'Diabetic', 'Yes')\n",
      "(109426.0, 101.0, 5.9, 'Pre-Diabetic', 'Yes')\n",
      "(109428.0, 106.0, 5.3, 'Pre-Diabetic', 'Yes')\n"
     ]
    }
   ],
   "source": [
    "# Create new columns for diabetic status and doctor follow-up based on CDC guidelines \n",
    "diabetic_followup = '''\n",
    "CREATE TABLE \n",
    "    diabetes AS \n",
    "SELECT \n",
    "    SEQN, \n",
    "    LBXGLU, \n",
    "    LBXGH,\n",
    "    CASE\n",
    "        WHEN LBXGLU < 100 AND LBXGH < 5.7 THEN 'Non-Diabetic' \n",
    "        WHEN (LBXGLU >= 100 AND LBXGLU < 126) OR (LBXGH >= 5.7 AND LBXGH < 6.5) THEN 'Pre-Diabetic'\n",
    "        WHEN (LBXGLU >= 100 AND LBXGLU < 126 AND LBXGH IS NULL) OR \n",
    "             (LBXGLU IS NULL AND LBXGH >= 5.7 AND LBXGH < 6.5) THEN 'Pre-Diabetic'\n",
    "        WHEN (LBXGLU >= 126 OR LBXGH >= 6.5) THEN 'Diabetic'\n",
    "        WHEN (LBXGLU >= 126 AND LBXGH IS NULL) OR \n",
    "             (LBXGLU IS NULL AND LBXGH >= 6.5) THEN 'Diabetic'\n",
    "        ELSE 'Inconclusive'\n",
    "    END AS Diabetic_Status,\n",
    "    CASE\n",
    "        WHEN LBXGLU < 100 AND LBXGH < 5.7 THEN 'No'\n",
    "        ELSE 'Yes'\n",
    "    END AS Doctor_Followup\n",
    "FROM \n",
    "    lab_records;\n",
    "'''\n",
    "cursor = conn.cursor()\n",
    "cursor.execute(diabetic_followup)\n",
    "cursor.execute('SELECT * FROM diabetes')\n",
    "\n",
    "rows = cursor.fetchmany(50)\n",
    "for row in rows:\n",
    "    print(row)"
   ]
  },
  {
   "cell_type": "code",
   "execution_count": 8,
   "id": "3750b1ac",
   "metadata": {},
   "outputs": [
    {
     "name": "stdout",
     "output_type": "stream",
     "text": [
      "(109324.0,)\n",
      "(109346.0,)\n",
      "(109350.0,)\n",
      "(109353.0,)\n",
      "(109358.0,)\n",
      "(109368.0,)\n",
      "(109437.0,)\n",
      "(109490.0,)\n",
      "(109523.0,)\n",
      "(109726.0,)\n",
      "(109743.0,)\n",
      "(109823.0,)\n",
      "(109972.0,)\n",
      "(110034.0,)\n",
      "(110048.0,)\n",
      "(110121.0,)\n",
      "(110181.0,)\n",
      "(110201.0,)\n",
      "(110222.0,)\n",
      "(110254.0,)\n",
      "(110282.0,)\n",
      "(110302.0,)\n",
      "(110401.0,)\n",
      "(110468.0,)\n",
      "(110490.0,)\n",
      "(110535.0,)\n",
      "(110565.0,)\n",
      "(110586.0,)\n",
      "(110650.0,)\n",
      "(110661.0,)\n",
      "(110757.0,)\n",
      "(110776.0,)\n",
      "(110842.0,)\n",
      "(110902.0,)\n",
      "(110980.0,)\n",
      "(110996.0,)\n",
      "(111038.0,)\n",
      "(111044.0,)\n",
      "(111051.0,)\n",
      "(111135.0,)\n",
      "(111399.0,)\n",
      "(111414.0,)\n",
      "(111490.0,)\n",
      "(111505.0,)\n",
      "(111549.0,)\n",
      "(111563.0,)\n",
      "(111596.0,)\n",
      "(111651.0,)\n",
      "(111667.0,)\n",
      "(111687.0,)\n"
     ]
    }
   ],
   "source": [
    "# Filter for patients who need to be tested for diabetes\n",
    "inconclusive = '''\n",
    "SELECT \n",
    "    SEQN\n",
    "FROM\n",
    "    diabetes \n",
    "WHERE Diabetic_Status = 'Inconclusive';\n",
    "'''\n",
    "cursor = conn.cursor()\n",
    "cursor.execute(inconclusive)\n",
    "\n",
    "rows = cursor.fetchmany(50)\n",
    "for row in rows:\n",
    "    print(row)"
   ]
  },
  {
   "cell_type": "code",
   "execution_count": 9,
   "id": "bf2391ec",
   "metadata": {},
   "outputs": [
    {
     "name": "stdout",
     "output_type": "stream",
     "text": [
      "(109382.0,)\n",
      "(109415.0,)\n",
      "(109480.0,)\n",
      "(109552.0,)\n",
      "(109558.0,)\n",
      "(109563.0,)\n",
      "(109565.0,)\n",
      "(109610.0,)\n",
      "(109612.0,)\n",
      "(109620.0,)\n",
      "(109721.0,)\n",
      "(109725.0,)\n",
      "(109742.0,)\n",
      "(109803.0,)\n",
      "(109841.0,)\n",
      "(109843.0,)\n",
      "(109844.0,)\n",
      "(109881.0,)\n",
      "(109941.0,)\n",
      "(109999.0,)\n",
      "(110005.0,)\n",
      "(110057.0,)\n",
      "(110064.0,)\n",
      "(110124.0,)\n",
      "(110151.0,)\n",
      "(110185.0,)\n",
      "(110188.0,)\n",
      "(110207.0,)\n",
      "(110292.0,)\n",
      "(110304.0,)\n",
      "(110353.0,)\n",
      "(110390.0,)\n",
      "(110410.0,)\n",
      "(110417.0,)\n",
      "(110418.0,)\n",
      "(110434.0,)\n",
      "(110488.0,)\n",
      "(110532.0,)\n",
      "(110538.0,)\n",
      "(110578.0,)\n",
      "(110608.0,)\n",
      "(110651.0,)\n",
      "(110656.0,)\n",
      "(110702.0,)\n",
      "(110737.0,)\n",
      "(110762.0,)\n",
      "(110778.0,)\n",
      "(110822.0,)\n",
      "(110834.0,)\n",
      "(110870.0,)\n"
     ]
    }
   ],
   "source": [
    "# Filter for pre-diabetic and diabetic patients to follow up with\n",
    "diabetic_patients = '''\n",
    "SELECT \n",
    "    SEQN\n",
    "FROM\n",
    "    diabetes \n",
    "WHERE Diabetic_Status = 'Diabetic' OR 'Pre-Diabetic';\n",
    "'''\n",
    "cursor = conn.cursor()\n",
    "cursor.execute(diabetic_patients)\n",
    "\n",
    "rows = cursor.fetchmany(50)\n",
    "for row in rows:\n",
    "    print(row)\n"
   ]
  },
  {
   "cell_type": "code",
   "execution_count": 10,
   "id": "014e5f10",
   "metadata": {
    "scrolled": true
   },
   "outputs": [
    {
     "name": "stdout",
     "output_type": "stream",
     "text": [
      "('Diabetic', 529)\n",
      "('Inconclusive', 337)\n",
      "('Non-Diabetic', 1636)\n",
      "('Pre-Diabetic', 2588)\n"
     ]
    }
   ],
   "source": [
    "# Pull breakdown of diabetes status \n",
    "status = '''\n",
    "SELECT \n",
    "    Diabetic_Status, \n",
    "    COUNT(*) AS Total \n",
    "FROM \n",
    "    diabetes\n",
    "GROUP BY \n",
    "    diabetic_Status;\n",
    "'''\n",
    "cursor = conn.cursor()\n",
    "cursor.execute(status)\n",
    "\n",
    "rows = cursor.fetchall()\n",
    "for row in rows:\n",
    "    print(row)"
   ]
  },
  {
   "cell_type": "code",
   "execution_count": 11,
   "id": "e2245af6",
   "metadata": {},
   "outputs": [
    {
     "name": "stdout",
     "output_type": "stream",
     "text": [
      "('No', 1636)\n",
      "('Yes', 3454)\n"
     ]
    }
   ],
   "source": [
    "# Pull breakdown of followups \n",
    "followup = '''\n",
    "SELECT \n",
    "    Doctor_Followup, \n",
    "    COUNT(*) AS Total\n",
    "FROM\n",
    "    diabetes\n",
    "GROUP BY\n",
    "    Doctor_Followup;\n",
    "'''\n",
    "cursor = conn.cursor()\n",
    "cursor.execute(followup)\n",
    "\n",
    "rows = cursor.fetchall()\n",
    "for row in rows:\n",
    "    print(row)"
   ]
  },
  {
   "cell_type": "code",
   "execution_count": 12,
   "id": "db20acb0",
   "metadata": {},
   "outputs": [],
   "source": [
    "# SQL query to retrieve data from the 'diabetes' table\n",
    "query = \"SELECT * FROM diabetes;\"\n",
    "\n",
    "# Fetch data from SQL into a pandas DataFrame\n",
    "diabetes_data = pd.read_sql_query(query, conn)\n",
    "\n",
    "# Export the pandas DataFrame to a CSV file\n",
    "diabetes_data.to_csv('diabetes_data.csv', index=False)  # Change 'diabetes_data.csv' to your desired file name"
   ]
  },
  {
   "cell_type": "code",
   "execution_count": 13,
   "id": "50456cf6",
   "metadata": {},
   "outputs": [],
   "source": [
    "# Commit changes and close the connection\n",
    "conn.commit()\n",
    "conn.close()"
   ]
  }
 ],
 "metadata": {
  "kernelspec": {
   "display_name": "Python 3 (ipykernel)",
   "language": "python",
   "name": "python3"
  },
  "language_info": {
   "codemirror_mode": {
    "name": "ipython",
    "version": 3
   },
   "file_extension": ".py",
   "mimetype": "text/x-python",
   "name": "python",
   "nbconvert_exporter": "python",
   "pygments_lexer": "ipython3",
   "version": "3.9.13"
  }
 },
 "nbformat": 4,
 "nbformat_minor": 5
}
