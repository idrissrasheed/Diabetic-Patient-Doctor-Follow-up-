{
 "cells": [
  {
   "cell_type": "code",
   "execution_count": 1,
   "id": "56f884bc",
   "metadata": {},
   "outputs": [],
   "source": [
    "# Import libraries\n",
    "import os\n",
    "import pandas as pd\n",
    "import sqlite3"
   ]
  },
  {
   "cell_type": "code",
   "execution_count": 2,
   "id": "0ded635f",
   "metadata": {},
   "outputs": [],
   "source": [
    "# Set working directory\n",
    "desired_dir = 'C:/Users/idris/Downloads/Datasets'\n",
    "os.chdir(desired_dir)"
   ]
  },
  {
   "cell_type": "code",
   "execution_count": 3,
   "id": "4c4d9278",
   "metadata": {},
   "outputs": [],
   "source": [
    "# Read SAS files\n",
    "ghb = pd.read_sas('P_GHB.XPT')\n",
    "fast_gluc = pd.read_sas('P_GLU.XPT')"
   ]
  },
  {
   "cell_type": "code",
   "execution_count": 4,
   "id": "51463c39",
   "metadata": {},
   "outputs": [],
   "source": [
    "# Establish a connection to SQLite database\n",
    "conn = sqlite3.connect('Lab Records.db')"
   ]
  },
  {
   "cell_type": "code",
   "execution_count": 5,
   "id": "47ae699c",
   "metadata": {},
   "outputs": [
    {
     "data": {
      "text/plain": [
       "5090"
      ]
     },
     "execution_count": 5,
     "metadata": {},
     "output_type": "execute_result"
    }
   ],
   "source": [
    "# Move tables to Lab Records database\n",
    "ghb.to_sql('ghb',conn, if_exists='replace',index=False)\n",
    "fast_gluc.to_sql('fast_gluc',conn, if_exists='replace',index=False)"
   ]
  },
  {
   "cell_type": "code",
   "execution_count": 6,
   "id": "b9a78b8c",
   "metadata": {},
   "outputs": [
    {
     "data": {
      "text/plain": [
       "<sqlite3.Cursor at 0x224891e91f0>"
      ]
     },
     "execution_count": 6,
     "metadata": {},
     "output_type": "execute_result"
    }
   ],
   "source": [
    "# Full join the fasting glucose and ghb table\n",
    "lab_records = '''\n",
    "CREATE TABLE lab_records AS \n",
    "    SELECT * FROM fast_gluc\n",
    "        INNER JOIN ghb ON fast_gluc.SEQN = ghb.SEQN\n",
    "'''\n",
    "cursor = conn.cursor()\n",
    "cursor.execute(lab_records)"
   ]
  },
  {
   "cell_type": "code",
   "execution_count": 7,
   "id": "f8142aea",
   "metadata": {},
   "outputs": [
    {
     "data": {
      "text/plain": [
       "<sqlite3.Cursor at 0x224891e93b0>"
      ]
     },
     "execution_count": 7,
     "metadata": {},
     "output_type": "execute_result"
    }
   ],
   "source": [
    "# Create new column for the associated blood glucose and doctor follow-up\n",
    "diabetes_diagnosis = '''\n",
    "CREATE TABLE diabetes AS \n",
    "    SELECT SEQN, LBXGLU, LBXGH,\n",
    "        CASE\n",
    "            WHEN LBXGLU < 100 AND LBXGH < 5.7 THEN 'Non-Diabetic' \n",
    "            WHEN (LBXGLU >= 100 AND LBXGLU < 126) OR (LBXGH >= 5.7 AND LBXGH < 6.5) THEN 'Pre-Diabetic'\n",
    "            WHEN (LBXGLU >= 100 AND LBXGLU < 126 AND LBXGH IS NULL) OR (LBXGLU IS NULL AND LBXGH >= 5.7 AND LBXGH < 6.5) THEN 'Pre-Diabetic'\n",
    "            WHEN LBXGLU >= 126 OR LBXGH >= 6.5 THEN 'Diabetic'\n",
    "            WHEN (LBXGLU >= 126 AND LBXGH IS NULL) OR (LBXGLU IS NULL AND LBXGH >= 6.5) THEN 'Diabetic'\n",
    "            ELSE 'Inconclusive'\n",
    "        END AS Diabetes_Status,\n",
    "        CASE\n",
    "            WHEN (LBXGLU < 100 AND LBXGH < 5.7) OR (LBXGLU >= 100 AND LBXGLU < 126) OR (LBXGH >= 5.7 AND LBXGH < 6.5) THEN \"No\"\n",
    "            ELSE 'Yes'\n",
    "        END AS Doctor_Followup\n",
    "    FROM lab_records;\n",
    "'''\n",
    "cursor = conn.cursor()\n",
    "\n",
    "cursor.execute(diabetes_diagnosis)"
   ]
  },
  {
   "cell_type": "code",
   "execution_count": 8,
   "id": "1f62377d",
   "metadata": {},
   "outputs": [
    {
     "name": "stdout",
     "output_type": "stream",
     "text": [
      "(109264.0, 97.0, 5.3, 'Non-Diabetic', 'No')\n",
      "(109271.0, 103.0, 5.6, 'Pre-Diabetic', 'No')\n",
      "(109274.0, 154.0, 5.7, 'Pre-Diabetic', 'No')\n",
      "(109277.0, 92.0, 5.3, 'Non-Diabetic', 'No')\n",
      "(109282.0, 95.0, 5.5, 'Non-Diabetic', 'No')\n",
      "(109286.0, 92.0, 5.7, 'Pre-Diabetic', 'No')\n",
      "(109290.0, 106.0, 8.4, 'Pre-Diabetic', 'No')\n",
      "(109292.0, 181.0, 6.4, 'Pre-Diabetic', 'No')\n",
      "(109297.0, 92.0, 5.1, 'Non-Diabetic', 'No')\n",
      "(109300.0, 103.0, 5.4, 'Pre-Diabetic', 'No')\n",
      "(109305.0, 105.0, 5.2, 'Pre-Diabetic', 'No')\n",
      "(109307.0, 103.0, 5.3, 'Pre-Diabetic', 'No')\n",
      "(109313.0, 97.0, 5.9, 'Pre-Diabetic', 'No')\n",
      "(109317.0, 88.0, 5.0, 'Non-Diabetic', 'No')\n",
      "(109322.0, 89.0, 5.4, 'Non-Diabetic', 'No')\n",
      "(109323.0, 104.0, 5.2, 'Pre-Diabetic', 'No')\n",
      "(109324.0, 86.0, None, 'Inconclusive', 'Yes')\n",
      "(109326.0, 95.0, 5.1, 'Non-Diabetic', 'No')\n",
      "(109327.0, 98.0, 5.6, 'Non-Diabetic', 'No')\n",
      "(109330.0, 109.0, 5.6, 'Pre-Diabetic', 'No')\n",
      "(109331.0, 96.0, 5.3, 'Non-Diabetic', 'No')\n",
      "(109332.0, 88.0, 5.0, 'Non-Diabetic', 'No')\n",
      "(109335.0, 98.0, 6.3, 'Pre-Diabetic', 'No')\n",
      "(109340.0, 110.0, 5.8, 'Pre-Diabetic', 'No')\n",
      "(109342.0, 97.0, 5.2, 'Non-Diabetic', 'No')\n"
     ]
    }
   ],
   "source": [
    "# Print first 25 rows\n",
    "cursor.execute('SELECT * FROM diabetes')\n",
    "rows = cursor.fetchmany(25)\n",
    "for row in rows:\n",
    "    print(row)"
   ]
  },
  {
   "cell_type": "code",
   "execution_count": 9,
   "id": "db20acb0",
   "metadata": {},
   "outputs": [],
   "source": [
    "# SQL query to retrieve data from the 'diabetes' table\n",
    "query = \"SELECT * FROM diabetes;\"\n",
    "\n",
    "# Fetch data from SQL into a pandas DataFrame\n",
    "diabetes_data = pd.read_sql_query(query, conn)\n",
    "\n",
    "# Export the pandas DataFrame to a CSV file\n",
    "diabetes_data.to_csv('diabetes_data.csv', index=False)  # Change 'diabetes_data.csv' to your desired file name"
   ]
  },
  {
   "cell_type": "code",
   "execution_count": 10,
   "id": "50456cf6",
   "metadata": {},
   "outputs": [],
   "source": [
    "# Commit changes and close the connection\n",
    "conn.commit()\n",
    "conn.close()"
   ]
  }
 ],
 "metadata": {
  "kernelspec": {
   "display_name": "Python 3 (ipykernel)",
   "language": "python",
   "name": "python3"
  },
  "language_info": {
   "codemirror_mode": {
    "name": "ipython",
    "version": 3
   },
   "file_extension": ".py",
   "mimetype": "text/x-python",
   "name": "python",
   "nbconvert_exporter": "python",
   "pygments_lexer": "ipython3",
   "version": "3.9.13"
  }
 },
 "nbformat": 4,
 "nbformat_minor": 5
}
